{
 "cells": [
  {
   "cell_type": "code",
   "execution_count": 1,
   "metadata": {},
   "outputs": [],
   "source": [
    "#Initialization of used libraries\n",
    "import numpy as np\n",
    "import random\n",
    "import matplotlib.pyplot as plt\n",
    "from scipy.optimize import minimize"
   ]
  },
  {
   "cell_type": "code",
   "execution_count": 2,
   "metadata": {},
   "outputs": [],
   "source": [
    "#Task 1. Initialization of given functions\n",
    "def x_cube(input):\n",
    "    return input ** 3\n",
    "def x_abs(input):\n",
    "    return abs(input - 0.2)\n",
    "def x_sin(input):\n",
    "    x = input * np.sin(1 / input)\n",
    "    return x"
   ]
  },
  {
   "cell_type": "code",
   "execution_count": 3,
   "metadata": {},
   "outputs": [
    {
     "name": "stdout",
     "output_type": "stream",
     "text": [
      "(min, f-calculations, N of iterations) for 3 given functions: (0.0, 1001, 1001) (0.0, 1001, 1001) (-0.21722960129123117, 1001, 1001)\n"
     ]
    }
   ],
   "source": [
    "#1.1 Brute force method\n",
    "def brute_force(function):\n",
    "    list1 = []\n",
    "    N = 0\n",
    "    if str(function.__name__) == 'x_sin':\n",
    "        for i in range (0, 1001):\n",
    "            N += 1\n",
    "            list1.append(function(0.99 / 1000 * i + 0.01))\n",
    "    else:\n",
    "        for i in range (0, 1001):\n",
    "            N += 1\n",
    "            list1.append(function(i / 1000))\n",
    "    return min(list1), len(list1), N\n",
    "\n",
    "x = brute_force(x_cube)\n",
    "y = brute_force(x_abs)\n",
    "z = brute_force(x_sin)\n",
    "print('(min, f-calculations, N of iterations) for 3 given functions:',x,y,z)"
   ]
  },
  {
   "cell_type": "code",
   "execution_count": 4,
   "metadata": {},
   "outputs": [
    {
     "name": "stdout",
     "output_type": "stream",
     "text": [
      "(min, f-calculations, N of iterations) for 3 given functions: (1.1093111164523245e-10, 29, 14) (7.785034179669248e-06, 29, 14) (-0.2172336224666543, 29, 14)\n"
     ]
    }
   ],
   "source": [
    "#1.2 Dichotomy method\n",
    "def dichotomy(function, a, b):\n",
    "    beta = 0.0009\n",
    "    s = 0\n",
    "    N = 0\n",
    "    while abs(a-b) >= 0.001:\n",
    "        N += 1\n",
    "        s += 2\n",
    "        x1 = (a + b - beta) / 2\n",
    "        x2 = (a + b + beta) / 2\n",
    "        if function(x1) <= function(x2):\n",
    "            b = x2\n",
    "        else:\n",
    "            a = x1\n",
    "    return function((a + b) / 2), s + 1, N\n",
    "\n",
    "x = dichotomy(x_cube, 0, 1)\n",
    "y = dichotomy(x_abs, 0, 1)\n",
    "z = dichotomy(x_sin, 0.01, 1)\n",
    "print('(min, f-calculations, N of iterations) for 3 given functions:',x,y,z)"
   ]
  },
  {
   "cell_type": "code",
   "execution_count": 5,
   "metadata": {},
   "outputs": [
    {
     "name": "stdout",
     "output_type": "stream",
     "text": [
      "(min, f-calculations, N of iterations) for 3 given functions: (4.9256800857728296e-11, 18, 15) (7.331374358568454e-05, 18, 15) (-0.21723232817753246, 18, 15)\n"
     ]
    }
   ],
   "source": [
    "#1.3 Golden section method\n",
    "def golden(function, a, b):\n",
    "    s = 0\n",
    "    N = 0\n",
    "    x1 = a + (3 - np.sqrt(5)) / 2 * (b - a)\n",
    "    x2 = b + (np.sqrt(5) - 3) / 2 * (b - a)\n",
    "    while abs(a-b) >= 0.001:\n",
    "        N += 1\n",
    "        s += 1\n",
    "        if function(x1) <= function(x2):\n",
    "            b = x2\n",
    "            x2 = x1\n",
    "            x1 = a + (3 - np.sqrt(5)) / 2 * (b - a)\n",
    "        else:\n",
    "            a = x1\n",
    "            x1 = x2\n",
    "            x2 = b + (np.sqrt(5) - 3) / 2 * (b - a)\n",
    "    return function((a + b) / 2), s + 3, N\n",
    "\n",
    "x = golden(x_cube, 0, 1)\n",
    "y = golden(x_abs, 0, 1)\n",
    "z = golden(x_sin, 0.01, 1)\n",
    "print('(min, f-calculations, N of iterations) for 3 given functions:',x,y,z)"
   ]
  },
  {
   "cell_type": "code",
   "execution_count": 6,
   "metadata": {},
   "outputs": [],
   "source": [
    "#Task 2. Initialization of X and Y dots coordinates\n",
    "alpha = random.uniform (0, 1)\n",
    "beta = random.uniform (0, 1)\n",
    "\n",
    "xk = []\n",
    "for i in range(0, 101):\n",
    "    xk.append(i/100)\n",
    "xk = np.array(xk)\n",
    "\n",
    "yk =[]\n",
    "for i in xk:\n",
    "    yk.append(alpha * i + beta + random.normalvariate(0.5, 0.125))"
   ]
  },
  {
   "cell_type": "code",
   "execution_count": 7,
   "metadata": {},
   "outputs": [
    {
     "name": "stdout",
     "output_type": "stream",
     "text": [
      "[a,b] = [0.5572135294655777, 0.9537585123186982]\n"
     ]
    },
    {
     "data": {
      "image/png": "[encoded data removed]",
      "text/plain": [
       "<Figure size 432x288 with 1 Axes>"
      ]
     },
     "metadata": {
      "needs_background": "light"
     },
     "output_type": "display_data"
    }
   ],
   "source": [
    "#Test calculation of minimum, using np.linalg.lstsq\n",
    "A = np.vstack([xk, np.ones(len(xk))]).T\n",
    "a, b = np.linalg.lstsq(A, yk, rcond=None)[0]\n",
    "\n",
    "plt.scatter(xk, yk)\n",
    "plt.plot(xk, a*xk+b, 'r')\n",
    "print('[a,b] =',[a, b])"
   ]
  },
  {
   "cell_type": "code",
   "execution_count": 8,
   "metadata": {},
   "outputs": [
    {
     "name": "stdout",
     "output_type": "stream",
     "text": [
      "[a, b, f-calculations, N of iterations] = [0.557, 0.954, 1002001, 1002001]\n"
     ]
    },
    {
     "data": {
      "image/png": "[encoded data removed]",
      "text/plain": [
       "<Figure size 432x288 with 1 Axes>"
      ]
     },
     "metadata": {
      "needs_background": "light"
     },
     "output_type": "display_data"
    }
   ],
   "source": [
    "#2.1.1 Exhaustive search for linear function\n",
    "list1 = []\n",
    "for a in range(0, 1001):\n",
    "    a = a / 1000\n",
    "    for b in range(0, 1001):\n",
    "        b = b / 1000\n",
    "        s = 0\n",
    "        for k in range(0, 101):\n",
    "            s += (a * xk[k] + b - yk[k]) ** 2\n",
    "        list1.append([s, a, b])\n",
    "\n",
    "minimum = min(x[0] for x in list1)\n",
    "for sublist in list1:\n",
    "    if sublist[0] == minimum:\n",
    "        a = sublist[1]\n",
    "        b = sublist[2]\n",
    "        break\n",
    "\n",
    "plt.scatter(xk,yk)\n",
    "plt.plot(xk, a*xk+b, 'r')\n",
    "\n",
    "print('[a, b, f-calculations, N of iterations] =',[a, b, 1001*1001, 1001*1001],)"
   ]
  },
  {
   "cell_type": "code",
   "execution_count": 9,
   "metadata": {},
   "outputs": [
    {
     "name": "stdout",
     "output_type": "stream",
     "text": [
      "[a,b, f-calculations, N of iterations] = [0.999, -0.353, 1000000, 1000000]\n"
     ]
    },
    {
     "data": {
      "image/png": "[encoded data removed]",
      "text/plain": [
       "<Figure size 432x288 with 1 Axes>"
      ]
     },
     "metadata": {
      "needs_background": "light"
     },
     "output_type": "display_data"
    }
   ],
   "source": [
    "#2.1.2 Exhaustive search for rational function\n",
    "list2 = []\n",
    "for a in range(0, 1000):\n",
    "    a = a / 1000\n",
    "    for b in range(0, 1000):\n",
    "        b = -b / 1000\n",
    "        s = 0\n",
    "        for k in range(0, 101):\n",
    "            s += (a / (1 + b * xk[k]) - yk[k]) ** 2\n",
    "        list2.append([s, a, b])\n",
    "\n",
    "minimum = min(x[0] for x in list2)\n",
    "for sublist in list2:\n",
    "    if sublist[0] == minimum:\n",
    "        a = sublist[1]\n",
    "        b = sublist[2]\n",
    "        break\n",
    "\n",
    "plt.scatter(xk,yk)\n",
    "plt.plot(xk, a / (1 + b * xk), 'r')\n",
    "\n",
    "print('[a,b, f-calculations, N of iterations] =',[a, b, 1000 ** 2, 1000 ** 2])"
   ]
  },
  {
   "cell_type": "code",
   "execution_count": 15,
   "metadata": {},
   "outputs": [
    {
     "name": "stdout",
     "output_type": "stream",
     "text": [
      "[a,b, f-calculations, N of iterations] = [0.56, 0.952, 38038, 38]\n"
     ]
    },
    {
     "data": {
      "image/png": "[encoded data removed]",
      "text/plain": [
       "<Figure size 432x288 with 1 Axes>"
      ]
     },
     "metadata": {
      "needs_background": "light"
     },
     "output_type": "display_data"
    }
   ],
   "source": [
    "#2.2.1 Gauss (coordinate descent) method for linear function\n",
    "a1 = 0.05\n",
    "b1 = 0.05\n",
    "b1_temp = 10000\n",
    "N = 0\n",
    "f_calc = 0\n",
    "while 0 == 0:\n",
    "    N += 2\n",
    "    list1 = []\n",
    "    for a in range(0, 1001):\n",
    "        f_calc += 1\n",
    "        a = a / 1000\n",
    "        s = 0\n",
    "        for k in range(0, 101):\n",
    "            s += (a * xk[k] + b1 - yk[k]) ** 2\n",
    "        list1.append(s)\n",
    "    a1_temp = list1.index(min(list1)) / 1000\n",
    "    if abs(a1 - a1_temp) < 0.001 and abs(b1 - b1_temp) < 0.001:\n",
    "        break\n",
    "    a1 = a1_temp\n",
    "\n",
    "    list2 = []\n",
    "    for b in range(0, 1001):\n",
    "        f_calc += 1\n",
    "        b = b / 1000\n",
    "        s = 0\n",
    "        for k in range(0, 101):\n",
    "            s += (a1 * xk[k] + b - yk[k]) ** 2\n",
    "        list2.append(s)\n",
    "    b1_temp = list2.index(min(list2)) / 1000\n",
    "    if abs(b1 - b1_temp) < 0.001 and abs(a1 - a1_temp) < 0.001:\n",
    "        break\n",
    "    b1 = b1_temp\n",
    "\n",
    "\n",
    "plt.scatter(xk,yk)\n",
    "plt.plot(xk, a1*xk+b1, 'r')\n",
    "\n",
    "print('[a,b, f-calculations, N of iterations] =',[a1, b1, f_calc, N])"
   ]
  },
  {
   "cell_type": "code",
   "execution_count": 11,
   "metadata": {},
   "outputs": [
    {
     "name": "stdout",
     "output_type": "stream",
     "text": [
      "[a, b, f-calculations, N of iterations] = [0.999, -0.353, 3000, 4]\n"
     ]
    },
    {
     "data": {
      "image/png": "[encoded data removed]",
      "text/plain": [
       "<Figure size 432x288 with 1 Axes>"
      ]
     },
     "metadata": {
      "needs_background": "light"
     },
     "output_type": "display_data"
    }
   ],
   "source": [
    "#2.2.2 Gauss (coordinate descent) method for rational function\n",
    "a1 = 0.05\n",
    "b1 = -0.05\n",
    "b1_temp = 10000\n",
    "N = 0\n",
    "f_calc = 0\n",
    "while 0 == 0:\n",
    "    N += 2\n",
    "    list1 = []\n",
    "    for a in range(0, 1000):\n",
    "        f_calc += 1\n",
    "        a = a / 1000\n",
    "        s = 0\n",
    "        for k in range(0, 101):\n",
    "            s += (a / (1 + b1 * xk[k]) - yk[k]) ** 2\n",
    "        list1.append(s)\n",
    "    a1_temp = list1.index(min(list1)) / 1000\n",
    "    if abs(a1 - a1_temp) < 0.001 and abs(b1 - b1_temp) < 0.001:\n",
    "        break\n",
    "    a1 = a1_temp\n",
    "\n",
    "    list2 = []\n",
    "    for b in range(0, 1000):\n",
    "        f_calc += 1\n",
    "        b = -b / 1000\n",
    "        s = 0\n",
    "        for k in range(0, 101):\n",
    "            s += (a1 / (1 + b * xk[k]) - yk[k]) ** 2\n",
    "        list2.append(s)\n",
    "    b1_temp = list2.index(min(list2)) / -1000\n",
    "    if abs(b1 - b1_temp) < 0.001 and abs(a1 - a1_temp) < 0.001:\n",
    "        break\n",
    "    b1 = b1_temp\n",
    "\n",
    "plt.scatter(xk,yk)\n",
    "plt.plot(xk, a1 / (1 + b1 * xk), 'r')\n",
    "\n",
    "print('[a, b, f-calculations, N of iterations] =',[a1, b1, f_calc, N])"
   ]
  },
  {
   "cell_type": "code",
   "execution_count": 12,
   "metadata": {},
   "outputs": [
    {
     "name": "stdout",
     "output_type": "stream",
     "text": [
      "Optimization terminated successfully.\n",
      "         Current function value: 1.512269\n",
      "         Iterations: 35\n",
      "         Function evaluations: 68\n",
      "[a, b] = [0.55736544 0.95376376]\n"
     ]
    },
    {
     "data": {
      "text/plain": [
       "[<matplotlib.lines.Line2D at 0x141efcd98a0>]"
      ]
     },
     "execution_count": 12,
     "metadata": {},
     "output_type": "execute_result"
    },
    {
     "data": {
      "image/png": "[encoded data removed]",
      "text/plain": [
       "<Figure size 432x288 with 1 Axes>"
      ]
     },
     "metadata": {
      "needs_background": "light"
     },
     "output_type": "display_data"
    }
   ],
   "source": [
    "#2.3.1 Nelder-Mead method for linear function\n",
    "from scipy.optimize import minimize\n",
    "\n",
    "def fun(ab):\n",
    "    a, b = ab\n",
    "    s = 0\n",
    "    for k in range(0, 101):\n",
    "        s += (a * xk[k] + b - yk[k]) ** 2\n",
    "    return s\n",
    "\n",
    "result = minimize(fun,[0.3, 0.3], method='nelder-mead', options={'xatol': 0.001,'disp': True})\n",
    "\n",
    "print ('[a, b] =',result.x)\n",
    "plt.scatter(xk,yk)\n",
    "plt.plot(xk, result.x[0] * xk + result.x[1], 'r')"
   ]
  },
  {
   "cell_type": "code",
   "execution_count": 13,
   "metadata": {},
   "outputs": [
    {
     "name": "stdout",
     "output_type": "stream",
     "text": [
      "Optimization terminated successfully.\n",
      "         Current function value: 1.593017\n",
      "         Iterations: 41\n",
      "         Function evaluations: 79\n",
      "[a, b] = [ 0.99937035 -0.35262363]\n"
     ]
    },
    {
     "data": {
      "text/plain": [
       "[<matplotlib.lines.Line2D at 0x141efc12890>]"
      ]
     },
     "execution_count": 13,
     "metadata": {},
     "output_type": "execute_result"
    },
    {
     "data": {
      "image/png": "[encoded data removed]",
      "text/plain": [
       "<Figure size 432x288 with 1 Axes>"
      ]
     },
     "metadata": {
      "needs_background": "light"
     },
     "output_type": "display_data"
    }
   ],
   "source": [
    "#2.3.2 Nelder-Mead method for rational function\n",
    "def fun(ab):\n",
    "    a, b = ab\n",
    "    s = 0\n",
    "    for k in range(0, 101):\n",
    "        s += (a / (1 + b * xk[k]) - yk[k]) ** 2\n",
    "    return s\n",
    "\n",
    "result = minimize(fun,[0.3, 0.3], method='nelder-mead', options={'xatol': 0.001,'disp': True})\n",
    "\n",
    "print ('[a, b] =', result.x)\n",
    "plt.scatter(xk,yk)\n",
    "plt.plot(xk, result.x[0] / (1 + result.x[1] * xk), 'r')"
   ]
  }
 ],
 "metadata": {
  "interpreter": {
   "hash": "5e011a5b177e0d1065f9fbc5bbadc9e4d32efc4a062f88317d3c912e6fde4c92"
  },
  "kernelspec": {
   "display_name": "Python 3.10.0 64-bit",
   "name": "python3"
  },
  "language_info": {
   "codemirror_mode": {
    "name": "ipython",
    "version": 3
   },
   "file_extension": ".py",
   "mimetype": "text/x-python",
   "name": "python",
   "nbconvert_exporter": "python",
   "pygments_lexer": "ipython3",
   "version": "3.10.0"
  },
  "orig_nbformat": 4
 },
 "nbformat": 4,
 "nbformat_minor": 2
}
